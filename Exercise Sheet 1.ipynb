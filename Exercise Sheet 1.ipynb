{
 "cells": [
  {
   "cell_type": "markdown",
   "metadata": {},
   "source": [
    "# Exercise Sheet 1\n",
    "\n",
    "## Exercise 1\n",
    "\n",
    "Write a Python program to print the following string in a specific format.\n",
    "\n",
    "_Sample String :_ \"Twinkle, twinkle, little star, How I wonder what you are! Up above the world so high, Like a diamond in the sky. Twinkle, twinkle, little star, How I wonder what you are\"\n",
    "\n",
    "_Output :_\n",
    "\n",
    "````\n",
    "Twinkle, twinkle, little star,\n",
    "\tHow I wonder what you are! \n",
    "\t\tUp above the world so high,   \t\t\n",
    "\t\tLike a diamond in the sky. \n",
    "Twinkle, twinkle, little star, \n",
    "\tHow I wonder what you are\n",
    "````"
   ]
  },
  {
   "cell_type": "code",
   "execution_count": 1,
   "metadata": {},
   "outputs": [
    {
     "name": "stdout",
     "output_type": "stream",
     "text": [
      "\tTwinkle, twinkle, little star,\n",
      "\t\tHow I wonder what you are!\n",
      "\t\t\tUp above the world so high,\n",
      "\t\t\tLike a diamond in the sky.\n",
      "\tTwinkle, twinkle, little star,\n",
      "\t\tHow I wonder what you are\n"
     ]
    }
   ],
   "source": [
    "print(\"\\tTwinkle, twinkle, little star,\\n\\t\\tHow I wonder what you are!\\n\\t\\t\\tUp above the world so high,\\n\\t\\t\\tLike a diamond in the sky.\\n\\tTwinkle, twinkle, little star,\\n\\t\\tHow I wonder what you are\")"
   ]
  },
  {
   "cell_type": "markdown",
   "metadata": {},
   "source": [
    "## Exercise 2\n",
    "\n",
    "Write a Python program which accepts the user's first and last name and print them in reverse order with a space between them."
   ]
  },
  {
   "cell_type": "code",
   "execution_count": 3,
   "metadata": {},
   "outputs": [
    {
     "name": "stdin",
     "output_type": "stream",
     "text": [
      "What is your first name? Mihai\n",
      "What is your last name? Racoreanu\n"
     ]
    },
    {
     "name": "stdout",
     "output_type": "stream",
     "text": [
      "Racoreanu Mihai\n"
     ]
    }
   ],
   "source": [
    "first_name = input(\"What is your first name?\")\n",
    "last_name = input(\"What is your last name?\")\n",
    "\n",
    "print(last_name, first_name)"
   ]
  },
  {
   "cell_type": "markdown",
   "metadata": {},
   "source": [
    "## Exercise 3\n",
    "\n",
    "Write a Python program to swap two variables.\n",
    "\n",
    "Swapping two variables refers to mutually exchanging the values of the variables."
   ]
  },
  {
   "cell_type": "code",
   "execution_count": 2,
   "metadata": {},
   "outputs": [
    {
     "name": "stdout",
     "output_type": "stream",
     "text": [
      "bama ala\n"
     ]
    }
   ],
   "source": [
    "a = 'ala'\n",
    "b = 'bama'\n",
    "a, b = b, a\n",
    "print(a, b)"
   ]
  },
  {
   "cell_type": "markdown",
   "metadata": {},
   "source": [
    "## Exercise 4\n",
    "\n",
    "Given variables x=30 and y=20, write a Python program to print \"30+20=50\"."
   ]
  },
  {
   "cell_type": "code",
   "execution_count": 7,
   "metadata": {},
   "outputs": [
    {
     "name": "stdout",
     "output_type": "stream",
     "text": [
      "30 + 20 = 50\n"
     ]
    }
   ],
   "source": [
    "def print_sum(x = 30, y = 20):\n",
    "    print(\"{} + {} = {}\".format(x, y, x+y))\n",
    "\n",
    "print_sum()"
   ]
  },
  {
   "cell_type": "markdown",
   "metadata": {},
   "source": [
    "## Exercise 5\n",
    "\n",
    "Write a Python program to compute (x + y) * (x + y)."
   ]
  },
  {
   "cell_type": "code",
   "execution_count": 18,
   "metadata": {},
   "outputs": [
    {
     "name": "stdout",
     "output_type": "stream",
     "text": [
      "25\n"
     ]
    }
   ],
   "source": [
    "def binomial(x, y):\n",
    "    assert all(input_type in (int, float) for input_type in (type(x), type(y))), \"Function requires numerical inputs.\"\n",
    "    return (x + y)**2\n",
    "\n",
    "print(binomial(2, 3))"
   ]
  },
  {
   "cell_type": "markdown",
   "metadata": {},
   "source": [
    "## Exercise 6\n",
    "\n",
    "Write a Python program to calculate the hypotenuse of a right angled triangle."
   ]
  },
  {
   "cell_type": "code",
   "execution_count": 14,
   "metadata": {},
   "outputs": [
    {
     "name": "stdout",
     "output_type": "stream",
     "text": [
      "5.0\n"
     ]
    }
   ],
   "source": [
    "def hypothenuse(height, length):\n",
    "    from math import sqrt\n",
    "    assert all(input_type in (int, float) for input_type in (type(x), type(y))), \"Function requires numerical inputs.\"\n",
    "    return sqrt(height**2 + length**2)\n",
    "\n",
    "print(hypothenuse(3,4))"
   ]
  },
  {
   "cell_type": "markdown",
   "metadata": {},
   "source": [
    "## Exercise 7\n",
    "\n",
    "Write a Python program that will accept the base and height of a triangle and compute the area."
   ]
  },
  {
   "cell_type": "code",
   "execution_count": 3,
   "metadata": {},
   "outputs": [
    {
     "name": "stdout",
     "output_type": "stream",
     "text": [
      "6.0\n"
     ]
    }
   ],
   "source": [
    "def area_triangle(base, height):\n",
    "    assert all(input_type in (int, float) for input_type in map(type, (base, height))), \"Function requires numerical inputs.\"\n",
    "    return (base * height) / 2\n",
    "\n",
    "print(area_triangle(3,4))"
   ]
  },
  {
   "cell_type": "markdown",
   "metadata": {},
   "source": [
    "## Exercise 8\n",
    "\n",
    "Write a Python program that accepts an integer (n) and computes the value of n+nn+nnn.\n",
    "\n",
    "_Sample value of n :_ 5\n",
    "\n",
    "_Expected Result :_ 615"
   ]
  },
  {
   "cell_type": "code",
   "execution_count": 20,
   "metadata": {},
   "outputs": [
    {
     "data": {
      "text/plain": [
       "615"
      ]
     },
     "execution_count": 20,
     "metadata": {},
     "output_type": "execute_result"
    }
   ],
   "source": [
    "def function(n):\n",
    "    assert type(n) == int and n in range(10), \"Function argument needs to be a single digit.\"\n",
    "    return 3*n + 20*n + 100*n\n",
    "\n",
    "function(5)"
   ]
  },
  {
   "cell_type": "markdown",
   "metadata": {},
   "source": [
    "## Exercise 9\n",
    "\n",
    "Write a Python program to convert height (in feet and inches) to centimeters."
   ]
  },
  {
   "cell_type": "code",
   "execution_count": 10,
   "metadata": {},
   "outputs": [
    {
     "name": "stdout",
     "output_type": "stream",
     "text": [
      "170.17999999999998 centimeter\n"
     ]
    }
   ],
   "source": [
    "def imperial_to_metric(feet, inches):\n",
    "    from pint import UnitRegistry\n",
    "    ureg = UnitRegistry()\n",
    "    height = feet * ureg.foot + inches * ureg.inch\n",
    "    return str(height.to('cm'))\n",
    "\n",
    "print(imperial_to_metric(5, 7))"
   ]
  },
  {
   "cell_type": "markdown",
   "metadata": {},
   "source": [
    "## Exercise 10\n",
    "\n",
    "Write a Python program to get the the volume of a sphere given its radius.\n",
    "\n",
    "The volume of the sphere is :\n",
    "    \n",
    "$V = \\frac{4}{3}\\pi r^3$"
   ]
  },
  {
   "cell_type": "code",
   "execution_count": 4,
   "metadata": {},
   "outputs": [
    {
     "data": {
      "text/plain": [
       "2.356194490192345"
      ]
     },
     "execution_count": 4,
     "metadata": {},
     "output_type": "execute_result"
    }
   ],
   "source": [
    "def sphere_volume(r):\n",
    "    from math import pi\n",
    "    assert type(r) in (int, float), \"Function argument needs to be numerical.\"\n",
    "    return 3 / 4 * pi * r**3\n",
    "\n",
    "sphere_volume(1)"
   ]
  },
  {
   "cell_type": "markdown",
   "metadata": {},
   "source": [
    "## Exercise 11\n",
    "\n",
    "Write a Python program to calculate the sum of three given numbers, if the values are equal then return three times of their sum."
   ]
  },
  {
   "cell_type": "code",
   "execution_count": 28,
   "metadata": {},
   "outputs": [
    {
     "name": "stdout",
     "output_type": "stream",
     "text": [
      "12\n",
      "18\n"
     ]
    }
   ],
   "source": [
    "def lucky_sum(a, b, c):\n",
    "    assert all(input_type in (int, float) for input_type in map(type, (a, b, c))), \"Function requires numerical inputs.\"\n",
    "    s = a + b + c\n",
    "    if a == b == c:\n",
    "        return s * 3\n",
    "    else:\n",
    "        return s\n",
    "\n",
    "print(lucky_sum(3,4,5))\n",
    "print(lucky_sum(2,2,2))"
   ]
  },
  {
   "cell_type": "markdown",
   "metadata": {},
   "source": [
    "## Exercise 12\n",
    "\n",
    "Write a Python program to find whether a given number (accept from the user) is even or odd, print out an appropriate message to the user."
   ]
  },
  {
   "cell_type": "code",
   "execution_count": 35,
   "metadata": {},
   "outputs": [
    {
     "name": "stdin",
     "output_type": "stream",
     "text": [
      "n =  19\n"
     ]
    },
    {
     "name": "stdout",
     "output_type": "stream",
     "text": [
      "Number is odd\n"
     ]
    }
   ],
   "source": [
    "number = input(\"n = \")\n",
    "assert number.isnumeric(), \"Input has to be a number.\"  \n",
    "if int(number) % 2:\n",
    "    print(\"Number is odd\")\n",
    "else:\n",
    "    print(\"Number is even\")"
   ]
  },
  {
   "cell_type": "markdown",
   "metadata": {},
   "source": [
    "## Exercise 13\n",
    "\n",
    "Write a Python program to convert pressure in kilopascals to pounds per square inch,a millimeter of mercury (mmHg) and atmosphere pressure."
   ]
  },
  {
   "cell_type": "code",
   "execution_count": 5,
   "metadata": {},
   "outputs": [
    {
     "name": "stdout",
     "output_type": "stream",
     "text": [
      "['14.503773773020923 pound_force_per_square_inch', '750.0615758456564 mm_Hg', '0.9869232667160128 atmosphere']\n"
     ]
    }
   ],
   "source": [
    "def pressure_units(x):\n",
    "    from pint import UnitRegistry\n",
    "    ureg = UnitRegistry()\n",
    "    pressure = x * ureg.kilopascal\n",
    "    return list(map(str, (pressure.to(\"pound_force_per_square_inch\"), pressure.to(\"millimeter_Hg\"), pressure.to(\"atm\"))))\n",
    "\n",
    "print(pressure_units(100))"
   ]
  },
  {
   "cell_type": "markdown",
   "metadata": {},
   "source": [
    "## Exercise 14\n",
    "\n",
    "Write a Python program to calculate the body mass index."
   ]
  },
  {
   "cell_type": "code",
   "execution_count": 8,
   "metadata": {},
   "outputs": [
    {
     "name": "stdin",
     "output_type": "stream",
     "text": [
      "What is your weight? 64 kg\n",
      "What is your height? 168 cm\n"
     ]
    },
    {
     "name": "stdout",
     "output_type": "stream",
     "text": [
      "Your BMI is: 22.7\n"
     ]
    }
   ],
   "source": [
    "from pint import UnitRegistry\n",
    "\n",
    "def bmi(weight, height):\n",
    "    return weight.magnitude / height.magnitude**2 * 703\n",
    "\n",
    "def create_quantity(text):\n",
    "    v = text.split()\n",
    "    units = UnitRegistry()\n",
    "    return units.Quantity(float(v[0]), v[1])\n",
    "\n",
    "weight = create_quantity(input(\"What is your weight?\")).to('pound')\n",
    "height = create_quantity(input(\"What is your height?\")).to('inch')\n",
    "\n",
    "print(\"Your BMI is:\", \"{:.1f}\".format(bmi(weight, height)))"
   ]
  },
  {
   "cell_type": "markdown",
   "metadata": {},
   "source": [
    "## Exercise 16\n",
    "\n",
    "Write a Python program to convert the distance (in feet) to inches, yards, and miles."
   ]
  },
  {
   "cell_type": "code",
   "execution_count": 10,
   "metadata": {},
   "outputs": [
    {
     "name": "stdout",
     "output_type": "stream",
     "text": [
      "1200.00 inch\n",
      "33.33 yard\n",
      "0.02 mile\n"
     ]
    }
   ],
   "source": [
    "def distance_units(x):\n",
    "    from pint import UnitRegistry\n",
    "    units = UnitRegistry()\n",
    "    distance = x * units.foot\n",
    "    return (distance.to(\"inch\"), distance.to(\"yard\"), distance.to(\"mile\"))\n",
    "\n",
    "def less_decimals(quantity):\n",
    "    return \"{:.2f} {}\".format(quantity.magnitude, quantity.units)\n",
    "\n",
    "for _ in distance_units(100):\n",
    "    print(less_decimals(_))"
   ]
  },
  {
   "cell_type": "markdown",
   "metadata": {},
   "source": [
    "## Exercise 17\n",
    "\n",
    "Write a Python program to calculate midpoints of a line."
   ]
  },
  {
   "cell_type": "code",
   "execution_count": 20,
   "metadata": {},
   "outputs": [
    {
     "name": "stdout",
     "output_type": "stream",
     "text": [
      "(1.5, 1.5)\n"
     ]
    }
   ],
   "source": [
    "def midpoint(x1, y1, x2, y2):\n",
    "    x = (x1 + x2) / 2\n",
    "    y = (y1 + y2) / 2\n",
    "    return (x, y)\n",
    "\n",
    "print(midpoint(0, 0, 3, 3))"
   ]
  },
  {
   "cell_type": "markdown",
   "metadata": {},
   "source": [
    "## Exercise 18\n",
    "\n",
    "Write a Python program which solve the equation:\n",
    "\n",
    "$\n",
    "ax+by=c\\\\\n",
    "dx+ey=f\n",
    "$\n",
    "\n",
    "Print the values of x, y where a, b, c, d, e and f are given."
   ]
  },
  {
   "cell_type": "code",
   "execution_count": 18,
   "metadata": {},
   "outputs": [
    {
     "name": "stdout",
     "output_type": "stream",
     "text": [
      "x = -7.0\n",
      "y = 7.5\n"
     ]
    }
   ],
   "source": [
    "import numpy as np\n",
    "\n",
    "def solve_system(a, b, c, d, e, f):\n",
    "    array = np.array([[a, b], [d, e]])\n",
    "    v2 = np.array([c, f])\n",
    "    v1 = np.linalg.solve(array, v2)\n",
    "    return v1\n",
    "\n",
    "res = solve_system(1, 2, 8, 3, 4, 9)\n",
    "print(\"x = {:.3}\\ny = {:.3}\".format(res[0], res[1]))\n"
   ]
  },
  {
   "cell_type": "markdown",
   "metadata": {},
   "source": [
    "## Exercise 19\n",
    "\n",
    "Write a Python program that prints ``True`` if two lines PQ and RS are parallel, and ``False`` otherwise. The four points are P(x1, y1), Q(x2, y2), R(x3, y3), S(x4, y4)."
   ]
  },
  {
   "cell_type": "code",
   "execution_count": 19,
   "metadata": {},
   "outputs": [
    {
     "name": "stdout",
     "output_type": "stream",
     "text": [
      "True\n"
     ]
    }
   ],
   "source": [
    "def are_parallel(x1, y1, x2, y2, x3, y3, x4, y4):\n",
    "    return (y2 - y1) / (x2 - x1) == (y4 - y3) / (x4 - x3)\n",
    "\n",
    "print(are_parallel(0, 0, 3, 2, 0, 2, 3, 4))"
   ]
  },
  {
   "cell_type": "markdown",
   "metadata": {},
   "source": [
    "## Exercise 20\n",
    "\n",
    "Write a program to compute the radius and the central coordinate (x, y) of a circle which is constructed by three given points on the plane surface."
   ]
  },
  {
   "cell_type": "code",
   "execution_count": 28,
   "metadata": {},
   "outputs": [
    {
     "name": "stdout",
     "output_type": "stream",
     "text": [
      "x_centre = -0.0\n",
      "y_centre = 1.0\n",
      "radius = 1.0\n"
     ]
    }
   ],
   "source": [
    "def midpoint(x1, y1, x2, y2):\n",
    "    x = (x1 + x2) / 2\n",
    "    y = (y1 + y2) / 2\n",
    "    return (x, y)\n",
    "\n",
    "def line_eq_two_points(x1, y1, x2, y2):\n",
    "    m = (y2 - y1) / (x2 - x1)\n",
    "    c = y1 - m * x1\n",
    "    return (m, c)\n",
    "\n",
    "def line_eq_perpendicular(x1, y1, slope):\n",
    "    m = - 1/slope\n",
    "    c = y1 - m * x1\n",
    "    return (m, c)\n",
    "\n",
    "def point_line_intersection(line1, line2):\n",
    "    x = (line2[1] - line1[1]) / (line1[0] - line2[0])\n",
    "    y = line1[0] * x + line1[1]\n",
    "    return (x, y)\n",
    "\n",
    "def distance_two_points(x1, y1, x2, y2):\n",
    "    return ((y2 - y1)**2 + (x2 - x1)**2)**0.5\n",
    "\n",
    "\n",
    "def circle(x1, y1, x2, y2, x3, y3):\n",
    "    \n",
    "    midpoint1 = midpoint(x1, y1, x2, y2)\n",
    "    midpoint2 = midpoint(x2, y2, x3, y3)\n",
    "    \n",
    "    lineAB = line_eq_two_points(x1, y1, x2, y2)\n",
    "    lineBC = line_eq_two_points(x2, y2, x3, y3)\n",
    "    \n",
    "    radius1 = line_eq_perpendicular(*midpoint1, lineAB[0])\n",
    "    radius2 = line_eq_perpendicular(*midpoint2, lineBC[0])\n",
    "    \n",
    "    centre = point_line_intersection(radius1, radius2)\n",
    "    radius = distance_two_points(*centre, x1, y1)\n",
    "    \n",
    "    return (*centre, radius)\n",
    "\n",
    "res = circle(0, 0, 1, 1, 0, 2)\n",
    "print(\"x_centre = {:.3}\\ny_centre = {:.3}\\nradius = {:.3}\".format(res[0], res[1], res[2]))\n"
   ]
  },
  {
   "cell_type": "code",
   "execution_count": null,
   "metadata": {},
   "outputs": [],
   "source": []
  }
 ],
 "metadata": {
  "kernelspec": {
   "display_name": "Python 3",
   "language": "python",
   "name": "python3"
  },
  "language_info": {
   "codemirror_mode": {
    "name": "ipython",
    "version": 3
   },
   "file_extension": ".py",
   "mimetype": "text/x-python",
   "name": "python",
   "nbconvert_exporter": "python",
   "pygments_lexer": "ipython3",
   "version": "3.8.3"
  }
 },
 "nbformat": 4,
 "nbformat_minor": 4
}
